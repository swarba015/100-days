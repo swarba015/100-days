{
 "cells": [
  {
   "cell_type": "code",
   "execution_count": 1,
   "metadata": {},
   "outputs": [],
   "source": [
    "import nltk\n",
    "from  nltk.corpus import twitter_samples\n",
    "import matplotlib.pyplot as plt\n",
    "import random\n"
   ]
  },
  {
   "cell_type": "code",
   "execution_count": 2,
   "metadata": {},
   "outputs": [
    {
     "name": "stderr",
     "output_type": "stream",
     "text": [
      "[nltk_data] Downloading package twitter_samples to\n",
      "[nltk_data]     C:\\Users\\nuzha\\AppData\\Roaming\\nltk_data...\n",
      "[nltk_data]   Unzipping corpora\\twitter_samples.zip.\n"
     ]
    },
    {
     "data": {
      "text/plain": [
       "True"
      ]
     },
     "execution_count": 2,
     "metadata": {},
     "output_type": "execute_result"
    }
   ],
   "source": [
    "# downloads sample twitter dataset.\n",
    "nltk.download('twitter_samples')"
   ]
  },
  {
   "cell_type": "code",
   "execution_count": 8,
   "metadata": {},
   "outputs": [
    {
     "data": {
      "image/png": "[encoded data removed]",
      "text/plain": [
       "<Figure size 500x500 with 1 Axes>"
      ]
     },
     "metadata": {},
     "output_type": "display_data"
    }
   ],
   "source": [
    "# select the set of positive and negative tweets\n",
    "positive_tweets = twitter_samples.strings('positive_tweets.json')\n",
    "negative_tweets = twitter_tweets = twitter_samples.strings('negative_tweets.json')\n",
    "\n",
    "fig = plt.figure(figsize=(5, 5))  \n",
    "labels = 'positive', 'negative'\n",
    "\n",
    "sizes= [len(positive_tweets), len(negative_tweets)]\n",
    "\n",
    "plt.pie(sizes, labels=labels, autopct='%1.1f%%', shadow=True, startangle=90)\n",
    "\n",
    "plt.axis('equal')\n",
    "plt.show() "
   ]
  },
  {
   "cell_type": "code",
   "execution_count": 16,
   "metadata": {},
   "outputs": [
    {
     "name": "stdout",
     "output_type": "stream",
     "text": [
      "\n",
      " Sample Positive tweets:\n",
      " Hi BAM ! @BarsAndMelody \n",
      "Can you follow my bestfriend @969Horan696 ? \n",
      "She loves you a lot :) \n",
      "See you in Warsaw &lt;3 \n",
      "Love you &lt;3 x43\n"
     ]
    }
   ],
   "source": [
    "#Looking at raw text of positive and negative tweets\n",
    "print(\"\\n Sample Positive tweets:\\n\", positive_tweets[random.randint(0,500)])"
   ]
  },
  {
   "cell_type": "code",
   "execution_count": 17,
   "metadata": {},
   "outputs": [
    {
     "name": "stderr",
     "output_type": "stream",
     "text": [
      "[nltk_data] Downloading package stopwords to\n",
      "[nltk_data]     C:\\Users\\nuzha\\AppData\\Roaming\\nltk_data...\n",
      "[nltk_data]   Unzipping corpora\\stopwords.zip.\n"
     ]
    },
    {
     "data": {
      "text/plain": [
       "True"
      ]
     },
     "execution_count": 17,
     "metadata": {},
     "output_type": "execute_result"
    }
   ],
   "source": [
    "#download the stopwords from NLTK\n",
    "nltk.download('stopwords')\n"
   ]
  },
  {
   "cell_type": "code",
   "execution_count": 19,
   "metadata": {},
   "outputs": [],
   "source": [
    "import re\n",
    "import string\n",
    "from nltk.corpus import stopwords\n",
    "from nltk.stem import PorterStemmer\n",
    "from nltk.tokenize import TweetTokenizer\n"
   ]
  },
  {
   "cell_type": "code",
   "execution_count": 30,
   "metadata": {},
   "outputs": [],
   "source": [
    "# remove hyperlinks, twitter marks and styles\n",
    "import contractions \n",
    "def process_tweet1(tweet):\n",
    "  tweet = re.sub(r'^RT[\\s]+', '', tweet)\n",
    "  tweet = re.sub(r'https?:\\/\\/.*[\\r\\n]*', '', tweet)\n",
    "  tweet = re.sub(r'#', '', tweet)\n",
    "  tweet = contractions.fix(tweet)\n",
    "  return tweet\n",
    "\n",
    "cleaned_pos_tweet = [process_tweet1(tweet) for tweet in positive_tweets]\n",
    "cleaned_neg_tweet = [process_tweet1(tweet) for tweet in negative_tweets] "
   ]
  },
  {
   "cell_type": "code",
   "execution_count": 33,
   "metadata": {},
   "outputs": [
    {
     "name": "stdout",
     "output_type": "stream",
     "text": [
      "\n",
      " Sample Positive tweets after processing:\n",
      " ['great', 'talk', ':d']\n",
      "\n",
      " Sample Negative tweets after processing:\n",
      " ['mom', 'far', 'away', ':(']\n"
     ]
    }
   ],
   "source": [
    "# Tokenizing, removing stopwords and punctuation and stemming\n",
    "stopwords_english = stopwords.words('english')\n",
    "def process_tweet2(tweet):\n",
    "  tweet = tweet\n",
    "  tokennizer = TweetTokenizer(preserve_case=False, strip_handles=True, reduce_len=True)\n",
    "  tweet = tokennizer.tokenize(tweet)\n",
    "\n",
    "  tweet = [word for word in tweet if word not in stopwords_english and word not in string.punctuation]\n",
    "  stemmer = PorterStemmer()\n",
    "  tweet = [stemmer.stem(word) for word in tweet]\n",
    "\n",
    "  return tweet\n",
    "\n",
    "\n",
    "cleaned_neg_tweet1 = [process_tweet2(tweet) for tweet in cleaned_neg_tweet]\n",
    "cleaned_pos_tweet1 = [process_tweet2(tweet) for tweet in cleaned_pos_tweet]\n",
    "\n",
    "print(\"\\n Sample Positive tweets after processing:\\n\", cleaned_pos_tweet1[random.randint(0,500)])\n",
    "print(\"\\n Sample Negative tweets after processing:\\n\", cleaned_neg_tweet1[random.randint(0,500)])"
   ]
  }
 ],
 "metadata": {
  "kernelspec": {
   "display_name": "Python 3",
   "language": "python",
   "name": "python3"
  },
  "language_info": {
   "codemirror_mode": {
    "name": "ipython",
    "version": 3
   },
   "file_extension": ".py",
   "mimetype": "text/x-python",
   "name": "python",
   "nbconvert_exporter": "python",
   "pygments_lexer": "ipython3",
   "version": "3.11.9"
  }
 },
 "nbformat": 4,
 "nbformat_minor": 2
}
